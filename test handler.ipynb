{
 "cells": [
  {
   "cell_type": "code",
   "execution_count": 1,
   "id": "a20ad81d",
   "metadata": {},
   "outputs": [],
   "source": [
    "from handlers.create_handler import get_handler\n",
    "\n",
    "transcrypt_handler = get_handler('transcrypt_handler')"
   ]
  },
  {
   "cell_type": "code",
   "execution_count": 2,
   "id": "27394222",
   "metadata": {},
   "outputs": [
    {
     "name": "stdout",
     "output_type": "stream",
     "text": [
      "MoviePy - Writing audio in /usr/src/app/tmp/test_0.mp3\n"
     ]
    },
    {
     "name": "stderr",
     "output_type": "stream",
     "text": [
      "                                                                                                                      \r"
     ]
    },
    {
     "name": "stdout",
     "output_type": "stream",
     "text": [
      "MoviePy - Done.\n",
      "[{'path': '/usr/src/app/tmp/test_0.mp3', 'transcription': 'МОЩНЫЙ ВЗРЫВ В ЦЕНТРЕ МЮНКИНА ЧЕТЫРЕ ЧЕЛОВЕКА ПОСТРАДАЛИ ОДИН В ТЯЖЕЛОМ СОСТОЯНИИ СДЕТОНИРОВАЛА АБИАБОМБА ВРЕМЁН ВТОРОЙ МИРОВОЙ ВОЙНЫ НАСТРОЙ ПЛОЩАДКЕ НЕДАЛЕКО ОТ ГЛАВНОГО ЖИЗНЬ ДОРОЖНОГО ВОКЗАЛА БАВАРСКОЙ СТОЛИЦЕ ВЕСОМ ДВЕСТИ ПЯТЬДЕСЯТ КИЛОГРАММОВ СТРОИТЕЛЕЙ НАТКНУЛИСЬ НА НЕЁ ВО ВРЕМЯ БУРЕНИЯ ДВИЖЕНИЯ ПОЕЗДУВ В ЭТОМ РАЙОНЕ ПРИОСТАНОВЛЕНА ПОЛИЦИЯ ЦЕПИЛА ТЕРРИТОРИЮ ПОЧЕМУ БУМ БУ НЕТ НАРУЖИЛИ ДО НАЧАЛА РАБОТ СЕЙЧАС ВЫЯСНЯЮТ'}]\n"
     ]
    }
   ],
   "source": [
    "video_path = 'test_videos/test.mp4'\n",
    "\n",
    "with open(video_path, \"rb\") as file:\n",
    "    vid_bytes = file.read()\n",
    "    \n",
    "    \n",
    "vid_id = 'test_0.mp4'\n",
    "\n",
    "transcrypt = transcrypt_handler.handle(vid_bytes, vid_id)\n",
    "print(transcrypt)"
   ]
  },
  {
   "cell_type": "markdown",
   "id": "c4a8fc68",
   "metadata": {},
   "source": [
    "### Test spell checker"
   ]
  },
  {
   "cell_type": "code",
   "execution_count": 3,
   "id": "7739824e",
   "metadata": {},
   "outputs": [
    {
     "data": {
      "text/plain": [
       "['МОЩНЫЙ',\n",
       " 'ВЗРЫВ',\n",
       " 'В',\n",
       " 'ЦЕНТРЕ',\n",
       " 'МЮНКИНА',\n",
       " 'ЧЕТЫРЕ',\n",
       " 'ЧЕЛОВЕКА',\n",
       " 'ПОСТРАДАЛИ',\n",
       " 'ОДИН',\n",
       " 'В',\n",
       " 'ТЯЖЕЛОМ',\n",
       " 'СОСТОЯНИИ',\n",
       " 'СДЕТОНИРОВАЛА',\n",
       " 'АБИАБОМБА',\n",
       " 'ВРЕМЁН',\n",
       " 'ВТОРОЙ',\n",
       " 'МИРОВОЙ',\n",
       " 'ВОЙНЫ',\n",
       " 'НАСТРОЙ',\n",
       " 'ПЛОЩАДКЕ',\n",
       " 'НЕДАЛЕКО',\n",
       " 'ОТ',\n",
       " 'ГЛАВНОГО',\n",
       " 'ЖИЗНЬ',\n",
       " 'ДОРОЖНОГО',\n",
       " 'ВОКЗАЛА',\n",
       " 'БАВАРСКОЙ',\n",
       " 'СТОЛИЦЕ',\n",
       " 'ВЕСОМ',\n",
       " 'ДВЕСТИ',\n",
       " 'ПЯТЬДЕСЯТ',\n",
       " 'КИЛОГРАММОВ',\n",
       " 'СТРОИТЕЛЕЙ',\n",
       " 'НАТКНУЛИСЬ',\n",
       " 'НА',\n",
       " 'НЕЁ',\n",
       " 'ВО',\n",
       " 'ВРЕМЯ',\n",
       " 'БУРЕНИЯ',\n",
       " 'ДВИЖЕНИЯ',\n",
       " 'ПОЕЗДУВ',\n",
       " 'В',\n",
       " 'ЭТОМ',\n",
       " 'РАЙОНЕ',\n",
       " 'ПРИОСТАНОВЛЕНА',\n",
       " 'ПОЛИЦИЯ',\n",
       " 'ЦЕПИЛА',\n",
       " 'ТЕРРИТОРИЮ',\n",
       " 'ПОЧЕМУ',\n",
       " 'БУМ',\n",
       " 'БУ',\n",
       " 'НЕТ',\n",
       " 'НАРУЖИЛИ',\n",
       " 'ДО',\n",
       " 'НАЧАЛА',\n",
       " 'РАБОТ',\n",
       " 'СЕЙЧАС',\n",
       " 'ВЫЯСНЯЮТ']"
      ]
     },
     "execution_count": 3,
     "metadata": {},
     "output_type": "execute_result"
    }
   ],
   "source": [
    "text = transcrypt[0]['transcription']\n",
    "text.split(' ')"
   ]
  },
  {
   "cell_type": "code",
   "execution_count": 4,
   "id": "3232e238",
   "metadata": {},
   "outputs": [
    {
     "name": "stderr",
     "output_type": "stream",
     "text": [
      "2021-12-03 19:30:06.650 INFO in 'deeppavlov.download'['download'] at line 138: Skipped http://files.deeppavlov.ai/deeppavlov_data/error_model.tar.gz download because of matching hashes\n",
      "2021-12-03 19:31:00.733 INFO in 'deeppavlov.download'['download'] at line 138: Skipped http://files.deeppavlov.ai/lang_models/ru_wiyalen_no_punkt.arpa.binary.gz download because of matching hashes\n",
      "[nltk_data] Downloading package punkt to /root/nltk_data...\n",
      "[nltk_data]   Package punkt is already up-to-date!\n",
      "[nltk_data] Downloading package stopwords to /root/nltk_data...\n",
      "[nltk_data]   Package stopwords is already up-to-date!\n",
      "[nltk_data] Downloading package perluniprops to /root/nltk_data...\n",
      "[nltk_data]   Package perluniprops is already up-to-date!\n",
      "[nltk_data] Downloading package nonbreaking_prefixes to\n",
      "[nltk_data]     /root/nltk_data...\n",
      "[nltk_data]   Package nonbreaking_prefixes is already up-to-date!\n",
      "2021-12-03 19:31:02.599 INFO in 'deeppavlov.vocabs.typos'['typos'] at line 83: Loading a dictionary from /root/.deeppavlov/downloads/vocabs/russian_words_vocab\n",
      "2021-12-03 19:31:26.518 INFO in 'deeppavlov.models.spelling_correction.brillmoore.error_model'['error_model'] at line 236: loading error_model from `/root/.deeppavlov/models/error_model/error_model_ru.tsv`\n"
     ]
    }
   ],
   "source": [
    "import sys\n",
    "\n",
    "from deeppavlov import build_model, configs\n",
    "\n",
    "CONFIG_PATH = configs.spelling_correction.brillmoore_kartaslov_ru\n",
    "\n",
    "model = build_model(CONFIG_PATH, download=True)\n",
    "for line in sys.stdin:\n",
    "    print(model([line])[0], flush=True)"
   ]
  },
  {
   "cell_type": "code",
   "execution_count": 5,
   "id": "4cffbfc7",
   "metadata": {},
   "outputs": [
    {
     "name": "stdout",
     "output_type": "stream",
     "text": [
      "мощный\n",
      "взрыв\n",
      "в\n",
      "центре\n",
      "мюнхена\n",
      "четыре\n",
      "человека\n",
      "пострадали\n",
      "один\n",
      "в\n",
      "тяжелом\n",
      "состоянии\n",
      "детонировала\n",
      "авиабомба\n",
      "времён\n",
      "второй\n",
      "мировой\n",
      "войны\n",
      "настрой\n",
      "площадке\n",
      "недалеко\n",
      "от\n",
      "главного\n",
      "жизнь\n",
      "дорожного\n",
      "вокзала\n",
      "баварской\n",
      "столице\n",
      "весом\n",
      "двести\n",
      "пятьдесят\n",
      "килограммов\n",
      "строителей\n",
      "наткнулись\n",
      "на\n",
      "неё\n",
      "во\n",
      "время\n",
      "бурения\n",
      "движения\n",
      "поездов\n",
      "в\n",
      "этом\n",
      "районе\n",
      "приостановлена\n",
      "полиция\n",
      "сцепила\n",
      "территорию\n",
      "почему\n",
      "бум\n",
      "бу\n",
      "нет\n",
      "нарушили\n",
      "до\n",
      "начала\n",
      "работ\n",
      "сейчас\n",
      "выясняют\n"
     ]
    }
   ],
   "source": [
    "for token in text.split(' '):\n",
    "    print(model([token])[0], flush=True)"
   ]
  },
  {
   "cell_type": "code",
   "execution_count": 6,
   "id": "cef7cd3c",
   "metadata": {},
   "outputs": [
    {
     "name": "stdout",
     "output_type": "stream",
     "text": [
      "мощный взрыв в центре мюнхена четыре человека пострадали один в тяжелом состоянии детонировала авиабомба времён второй мировой войны настрой площадке недалеко от главного жизнь дорожного вокзала баварской столице весом двести пятьдесят килограммов строителей наткнулись на неё во время бурения движения поездов в этом районе приостановлена полиция сцепила территорию почему бум бу нет нарушили до начала работ сейчас выясняют\n"
     ]
    }
   ],
   "source": [
    "print(model([text])[0], flush=True)"
   ]
  },
  {
   "cell_type": "code",
   "execution_count": 7,
   "id": "3e4e726a",
   "metadata": {},
   "outputs": [],
   "source": [
    "text += \"Munchen big cock\""
   ]
  },
  {
   "cell_type": "code",
   "execution_count": 8,
   "id": "edeb5a05",
   "metadata": {},
   "outputs": [],
   "source": [
    "text = model([text])[0]"
   ]
  },
  {
   "cell_type": "markdown",
   "id": "773f5963",
   "metadata": {},
   "source": [
    "#### Add nvidia tool"
   ]
  },
  {
   "cell_type": "code",
   "execution_count": 9,
   "id": "bb7e9621",
   "metadata": {},
   "outputs": [
    {
     "name": "stderr",
     "output_type": "stream",
     "text": [
      "[NeMo W 2021-12-03 19:32:27 optimizers:50] Apex was not found. Using the lamb or fused_adam optimizer will error out.\n"
     ]
    },
    {
     "name": "stdout",
     "output_type": "stream",
     "text": [
      "[NeMo I 2021-12-03 19:32:27 tokenize_and_classify:70] Creating ClassifyFst grammars. This might take some time...\n",
      "[NeMo I 2021-12-03 19:32:27 tokenize_and_classify:87] Creating ClassifyFst grammars. This might take some time...\n"
     ]
    }
   ],
   "source": [
    "from nemo_text_processing.inverse_text_normalization.inverse_normalize import InverseNormalizer\n",
    "\n",
    "inverse_normalizer = InverseNormalizer(lang='ru')\n",
    "\n",
    "transcriptions = inverse_normalizer.inverse_normalize(text, verbose=False)"
   ]
  },
  {
   "cell_type": "code",
   "execution_count": 10,
   "id": "0ae43ec5",
   "metadata": {},
   "outputs": [
    {
     "data": {
      "text/plain": [
       "'мощный взрыв в центре мюнхена четыре человека пострадали один в тяжелом состоянии детонировала авиабомба времён второй мировой войны настрой площадке недалеко от главного жизнь дорожного вокзала баварской столице весом 250 килограммов строителей наткнулись на неё во время бурения движения поездов в этом районе приостановлена полиция сцепила территорию почему бум бу нет нарушили до начала работ сейчас выясняютmunchen big cock'"
      ]
     },
     "execution_count": 10,
     "metadata": {},
     "output_type": "execute_result"
    }
   ],
   "source": [
    "transcriptions"
   ]
  },
  {
   "cell_type": "code",
   "execution_count": 11,
   "id": "6f7bce75",
   "metadata": {},
   "outputs": [
    {
     "name": "stdout",
     "output_type": "stream",
     "text": [
      "Hit:1 http://archive.ubuntu.com/ubuntu bionic InRelease\n",
      "Get:2 http://archive.ubuntu.com/ubuntu bionic-updates InRelease [88.7 kB]\n",
      "Get:3 http://archive.ubuntu.com/ubuntu bionic-backports InRelease [74.6 kB]    \n",
      "Get:4 http://security.ubuntu.com/ubuntu bionic-security InRelease [88.7 kB]    \n",
      "Fetched 252 kB in 1s (171 kB/s)                               \n",
      "Reading package lists... Done\n",
      "Reading package lists... Done\n",
      "Building dependency tree       \n",
      "Reading state information... Done\n",
      "libsndfile1 is already the newest version (1.0.28-4ubuntu0.18.04.2).\n",
      "ffmpeg is already the newest version (7:3.4.8-0ubuntu0.2).\n",
      "0 upgraded, 0 newly installed, 0 to remove and 0 not upgraded.\n",
      "Requirement already satisfied: Cython in /usr/local/lib/python3.7/dist-packages (0.29.14)\n",
      "\u001b[33mWARNING: Running pip as the 'root' user can result in broken permissions and conflicting behaviour with the system package manager. It is recommended to use a virtual environment instead: https://pip.pypa.io/warnings/venv\u001b[0m\n",
      "Requirement already satisfied: nemo_toolkit[all] in /usr/local/lib/python3.7/dist-packages (1.5.0)\n",
      "Requirement already satisfied: ruamel.yaml in /usr/local/lib/python3.7/dist-packages (from nemo_toolkit[all]) (0.15.100)\n",
      "Requirement already satisfied: torch in /usr/local/lib/python3.7/dist-packages (from nemo_toolkit[all]) (1.10.0)\n",
      "Requirement already satisfied: numpy>=1.18.2 in /usr/local/lib/python3.7/dist-packages (from nemo_toolkit[all]) (1.21.4)\n",
      "Requirement already satisfied: tqdm>=4.41.0 in /usr/local/lib/python3.7/dist-packages (from nemo_toolkit[all]) (4.62.0)\n",
      "Requirement already satisfied: sentencepiece<1.0.0 in /usr/local/lib/python3.7/dist-packages (from nemo_toolkit[all]) (0.1.96)\n",
      "Requirement already satisfied: unidecode in /usr/local/lib/python3.7/dist-packages (from nemo_toolkit[all]) (1.3.2)\n",
      "Requirement already satisfied: scikit-learn in /usr/local/lib/python3.7/dist-packages (from nemo_toolkit[all]) (0.21.2)\n",
      "Requirement already satisfied: frozendict in /usr/local/lib/python3.7/dist-packages (from nemo_toolkit[all]) (2.1.1)\n",
      "Requirement already satisfied: onnx>=1.7.0 in /usr/local/lib/python3.7/dist-packages (from nemo_toolkit[all]) (1.10.2)\n",
      "Requirement already satisfied: python-dateutil in /usr/local/lib/python3.7/dist-packages (from nemo_toolkit[all]) (2.8.2)\n",
      "Requirement already satisfied: wget in /usr/local/lib/python3.7/dist-packages (from nemo_toolkit[all]) (3.2)\n",
      "Requirement already satisfied: numba in /usr/local/lib/python3.7/dist-packages (from nemo_toolkit[all]) (0.53.1)\n",
      "Requirement already satisfied: wrapt in /usr/local/lib/python3.7/dist-packages (from nemo_toolkit[all]) (1.13.3)\n",
      "Requirement already satisfied: pillow in /usr/local/lib/python3.7/dist-packages (from nemo_toolkit[all]) (8.4.0)\n",
      "Requirement already satisfied: sphinxcontrib-bibtex in /usr/local/lib/python3.7/dist-packages (from nemo_toolkit[all]) (2.4.1)\n",
      "Requirement already satisfied: webdataset<=0.1.62,>=0.1.48 in /usr/local/lib/python3.7/dist-packages (from nemo_toolkit[all]) (0.1.62)\n",
      "Requirement already satisfied: pangu in /usr/local/lib/python3.7/dist-packages (from nemo_toolkit[all]) (4.0.6.1)\n",
      "Requirement already satisfied: opencc in /usr/local/lib/python3.7/dist-packages (from nemo_toolkit[all]) (1.1.3)\n",
      "Requirement already satisfied: pystoi in /usr/local/lib/python3.7/dist-packages (from nemo_toolkit[all]) (0.3.3)\n",
      "Requirement already satisfied: kaldi-python-io in /usr/local/lib/python3.7/dist-packages (from nemo_toolkit[all]) (1.2.2)\n",
      "Requirement already satisfied: editdistance in /usr/local/lib/python3.7/dist-packages (from nemo_toolkit[all]) (0.6.0)\n",
      "Requirement already satisfied: pyyaml<6 in /usr/local/lib/python3.7/dist-packages (from nemo_toolkit[all]) (5.4.1)\n",
      "Requirement already satisfied: pypinyin in /usr/local/lib/python3.7/dist-packages (from nemo_toolkit[all]) (0.44.0)\n",
      "Requirement already satisfied: regex in /usr/local/lib/python3.7/dist-packages (from nemo_toolkit[all]) (2021.11.10)\n",
      "Requirement already satisfied: sacrebleu[ja] in /usr/local/lib/python3.7/dist-packages (from nemo_toolkit[all]) (2.0.0)\n",
      "Requirement already satisfied: rapidfuzz in /usr/local/lib/python3.7/dist-packages (from nemo_toolkit[all]) (1.8.3)\n",
      "Requirement already satisfied: packaging in /usr/local/lib/python3.7/dist-packages (from nemo_toolkit[all]) (21.3)\n",
      "Requirement already satisfied: librosa in /usr/local/lib/python3.7/dist-packages (from nemo_toolkit[all]) (0.8.1)\n",
      "Requirement already satisfied: kaldi-io in /usr/local/lib/python3.7/dist-packages (from nemo_toolkit[all]) (0.9.4)\n",
      "Requirement already satisfied: parameterized in /usr/local/lib/python3.7/dist-packages (from nemo_toolkit[all]) (0.8.1)\n",
      "Requirement already satisfied: pytorch-lightning>=1.5.0 in /usr/local/lib/python3.7/dist-packages (from nemo_toolkit[all]) (1.5.4)\n",
      "Requirement already satisfied: transformers>=4.0.1 in /usr/local/lib/python3.7/dist-packages (from nemo_toolkit[all]) (4.12.2)\n",
      "Requirement already satisfied: pytest-runner in /usr/local/lib/python3.7/dist-packages (from nemo_toolkit[all]) (5.3.1)\n",
      "Requirement already satisfied: matplotlib in /usr/local/lib/python3.7/dist-packages (from nemo_toolkit[all]) (3.5.0)\n",
      "Requirement already satisfied: boto3 in /usr/local/lib/python3.7/dist-packages (from nemo_toolkit[all]) (1.20.19)\n",
      "Requirement already satisfied: inflect in /usr/local/lib/python3.7/dist-packages (from nemo_toolkit[all]) (5.3.0)\n",
      "Requirement already satisfied: isort[requirements]<5 in /usr/local/lib/python3.7/dist-packages (from nemo_toolkit[all]) (4.3.21)\n",
      "Requirement already satisfied: nltk>=3.6.5 in /usr/local/lib/python3.7/dist-packages (from nemo_toolkit[all]) (3.6.5)\n",
      "Requirement already satisfied: braceexpand in /usr/local/lib/python3.7/dist-packages (from nemo_toolkit[all]) (0.1.7)\n",
      "Requirement already satisfied: omegaconf>=2.1.0 in /usr/local/lib/python3.7/dist-packages (from nemo_toolkit[all]) (2.1.1)\n",
      "Requirement already satisfied: g2p-en in /usr/local/lib/python3.7/dist-packages (from nemo_toolkit[all]) (2.1.0)\n",
      "Requirement already satisfied: torch-stft in /usr/local/lib/python3.7/dist-packages (from nemo_toolkit[all]) (0.1.4)\n",
      "Requirement already satisfied: soundfile in /usr/local/lib/python3.7/dist-packages (from nemo_toolkit[all]) (0.10.3.post1)\n",
      "Requirement already satisfied: sox in /usr/local/lib/python3.7/dist-packages (from nemo_toolkit[all]) (1.4.1)\n",
      "Requirement already satisfied: torchmetrics>=0.4.1rc0 in /usr/local/lib/python3.7/dist-packages (from nemo_toolkit[all]) (0.6.0)\n",
      "Requirement already satisfied: pydub in /usr/local/lib/python3.7/dist-packages (from nemo_toolkit[all]) (0.25.1)\n",
      "Requirement already satisfied: marshmallow in /usr/local/lib/python3.7/dist-packages (from nemo_toolkit[all]) (3.14.1)\n",
      "Requirement already satisfied: sphinx in /usr/local/lib/python3.7/dist-packages (from nemo_toolkit[all]) (4.3.1)\n",
      "Requirement already satisfied: youtokentome>=1.0.5 in /usr/local/lib/python3.7/dist-packages (from nemo_toolkit[all]) (1.0.6)\n",
      "Requirement already satisfied: gdown in /usr/local/lib/python3.7/dist-packages (from nemo_toolkit[all]) (4.2.0)\n",
      "Requirement already satisfied: pytest in /usr/local/lib/python3.7/dist-packages (from nemo_toolkit[all]) (6.2.5)\n",
      "Requirement already satisfied: black==19.10b0 in /usr/local/lib/python3.7/dist-packages (from nemo_toolkit[all]) (19.10b0)\n",
      "Requirement already satisfied: sacremoses>=0.0.43 in /usr/local/lib/python3.7/dist-packages (from nemo_toolkit[all]) (0.0.46)\n",
      "Requirement already satisfied: pandas in /usr/local/lib/python3.7/dist-packages (from nemo_toolkit[all]) (0.25.3)\n",
      "Requirement already satisfied: pyannote.metrics in /usr/local/lib/python3.7/dist-packages (from nemo_toolkit[all]) (3.1)\n",
      "Requirement already satisfied: pesq in /usr/local/lib/python3.7/dist-packages (from nemo_toolkit[all]) (0.0.3)\n",
      "Requirement already satisfied: h5py in /usr/local/lib/python3.7/dist-packages (from nemo_toolkit[all]) (2.10.0)\n",
      "Requirement already satisfied: wordninja==2.0.0 in /usr/local/lib/python3.7/dist-packages (from nemo_toolkit[all]) (2.0.0)\n",
      "Requirement already satisfied: kaldiio in /usr/local/lib/python3.7/dist-packages (from nemo_toolkit[all]) (2.17.2)\n",
      "Requirement already satisfied: attrdict in /usr/local/lib/python3.7/dist-packages (from nemo_toolkit[all]) (2.0.1)\n",
      "Requirement already satisfied: wandb in /usr/local/lib/python3.7/dist-packages (from nemo_toolkit[all]) (0.12.7)\n",
      "Requirement already satisfied: jieba in /usr/local/lib/python3.7/dist-packages (from nemo_toolkit[all]) (0.42.1)\n",
      "Requirement already satisfied: pyannote.core in /usr/local/lib/python3.7/dist-packages (from nemo_toolkit[all]) (4.3)\n",
      "Requirement already satisfied: scipy in /usr/local/lib/python3.7/dist-packages (from nemo_toolkit[all]) (1.4.1)\n",
      "Requirement already satisfied: ipywidgets in /usr/local/lib/python3.7/dist-packages (from nemo_toolkit[all]) (7.6.5)\n",
      "Requirement already satisfied: torchvision in /usr/local/lib/python3.7/dist-packages (from nemo_toolkit[all]) (0.11.1)\n",
      "Requirement already satisfied: hydra-core>=1.1.0 in /usr/local/lib/python3.7/dist-packages (from nemo_toolkit[all]) (1.1.1)\n"
     ]
    },
    {
     "name": "stdout",
     "output_type": "stream",
     "text": [
      "Requirement already satisfied: fasttext in /usr/local/lib/python3.7/dist-packages (from nemo_toolkit[all]) (0.9.2)\n",
      "Requirement already satisfied: click>=6.5 in /usr/local/lib/python3.7/dist-packages (from black==19.10b0->nemo_toolkit[all]) (7.1.2)\n",
      "Requirement already satisfied: toml>=0.9.4 in /usr/local/lib/python3.7/dist-packages (from black==19.10b0->nemo_toolkit[all]) (0.10.2)\n",
      "Requirement already satisfied: typed-ast>=1.4.0 in /usr/local/lib/python3.7/dist-packages (from black==19.10b0->nemo_toolkit[all]) (1.5.0)\n",
      "Requirement already satisfied: appdirs in /usr/local/lib/python3.7/dist-packages (from black==19.10b0->nemo_toolkit[all]) (1.4.4)\n",
      "Requirement already satisfied: pathspec<1,>=0.6 in /usr/local/lib/python3.7/dist-packages (from black==19.10b0->nemo_toolkit[all]) (0.9.0)\n",
      "Requirement already satisfied: attrs>=18.1.0 in /usr/local/lib/python3.7/dist-packages (from black==19.10b0->nemo_toolkit[all]) (21.2.0)\n",
      "Requirement already satisfied: antlr4-python3-runtime==4.8 in /usr/local/lib/python3.7/dist-packages (from hydra-core>=1.1.0->nemo_toolkit[all]) (4.8)\n",
      "Requirement already satisfied: importlib-resources in /usr/local/lib/python3.7/dist-packages (from hydra-core>=1.1.0->nemo_toolkit[all]) (5.4.0)\n",
      "Requirement already satisfied: pipreqs in /usr/local/lib/python3.7/dist-packages (from isort[requirements]<5->nemo_toolkit[all]) (0.4.11)\n",
      "Requirement already satisfied: pip-api in /usr/local/lib/python3.7/dist-packages (from isort[requirements]<5->nemo_toolkit[all]) (0.0.25)\n",
      "Requirement already satisfied: kiwisolver>=1.0.1 in /usr/local/lib/python3.7/dist-packages (from matplotlib->nemo_toolkit[all]) (1.3.2)\n",
      "Requirement already satisfied: pyparsing>=2.2.1 in /usr/local/lib/python3.7/dist-packages (from matplotlib->nemo_toolkit[all]) (3.0.6)\n",
      "Requirement already satisfied: setuptools-scm>=4 in /usr/local/lib/python3.7/dist-packages (from matplotlib->nemo_toolkit[all]) (6.3.2)\n",
      "Requirement already satisfied: cycler>=0.10 in /usr/local/lib/python3.7/dist-packages (from matplotlib->nemo_toolkit[all]) (0.11.0)\n",
      "Requirement already satisfied: fonttools>=4.22.0 in /usr/local/lib/python3.7/dist-packages (from matplotlib->nemo_toolkit[all]) (4.28.3)\n",
      "Requirement already satisfied: joblib in /usr/local/lib/python3.7/dist-packages (from nltk>=3.6.5->nemo_toolkit[all]) (1.1.0)\n",
      "Requirement already satisfied: six in /usr/local/lib/python3.7/dist-packages (from onnx>=1.7.0->nemo_toolkit[all]) (1.16.0)\n",
      "Requirement already satisfied: typing-extensions>=3.6.2.1 in /usr/local/lib/python3.7/dist-packages (from onnx>=1.7.0->nemo_toolkit[all]) (4.0.1)\n",
      "Requirement already satisfied: protobuf in /usr/local/lib/python3.7/dist-packages (from onnx>=1.7.0->nemo_toolkit[all]) (3.19.1)\n",
      "Requirement already satisfied: future>=0.17.1 in /usr/local/lib/python3.7/dist-packages (from pytorch-lightning>=1.5.0->nemo_toolkit[all]) (0.18.2)\n",
      "Requirement already satisfied: tensorboard>=2.2.0 in /usr/local/lib/python3.7/dist-packages (from pytorch-lightning>=1.5.0->nemo_toolkit[all]) (2.7.0)\n",
      "Requirement already satisfied: pyDeprecate==0.3.1 in /usr/local/lib/python3.7/dist-packages (from pytorch-lightning>=1.5.0->nemo_toolkit[all]) (0.3.1)\n",
      "Requirement already satisfied: fsspec[http]!=2021.06.0,>=2021.05.0 in /usr/local/lib/python3.7/dist-packages (from pytorch-lightning>=1.5.0->nemo_toolkit[all]) (2021.11.1)\n",
      "Requirement already satisfied: tokenizers<0.11,>=0.10.1 in /usr/local/lib/python3.7/dist-packages (from transformers>=4.0.1->nemo_toolkit[all]) (0.10.3)\n",
      "Requirement already satisfied: requests in /usr/local/lib/python3.7/dist-packages (from transformers>=4.0.1->nemo_toolkit[all]) (2.22.0)\n",
      "Requirement already satisfied: filelock in /usr/local/lib/python3.7/dist-packages (from transformers>=4.0.1->nemo_toolkit[all]) (3.0.12)\n",
      "Requirement already satisfied: importlib-metadata in /usr/local/lib/python3.7/dist-packages (from transformers>=4.0.1->nemo_toolkit[all]) (4.8.2)\n",
      "Requirement already satisfied: huggingface-hub>=0.0.17 in /usr/local/lib/python3.7/dist-packages (from transformers>=4.0.1->nemo_toolkit[all]) (0.0.19)\n",
      "Requirement already satisfied: botocore<1.24.0,>=1.23.19 in /usr/local/lib/python3.7/dist-packages (from boto3->nemo_toolkit[all]) (1.23.19)\n",
      "Requirement already satisfied: s3transfer<0.6.0,>=0.5.0 in /usr/local/lib/python3.7/dist-packages (from boto3->nemo_toolkit[all]) (0.5.0)\n",
      "Requirement already satisfied: jmespath<1.0.0,>=0.7.1 in /usr/local/lib/python3.7/dist-packages (from boto3->nemo_toolkit[all]) (0.10.0)\n",
      "Requirement already satisfied: pybind11>=2.2 in /usr/local/lib/python3.7/dist-packages (from fasttext->nemo_toolkit[all]) (2.8.1)\n",
      "Requirement already satisfied: setuptools>=0.7.0 in /usr/local/lib/python3.7/dist-packages (from fasttext->nemo_toolkit[all]) (59.4.0)\n",
      "Requirement already satisfied: distance>=0.1.3 in /usr/local/lib/python3.7/dist-packages (from g2p-en->nemo_toolkit[all]) (0.1.3)\n",
      "Requirement already satisfied: beautifulsoup4 in /usr/local/lib/python3.7/dist-packages (from gdown->nemo_toolkit[all]) (4.10.0)\n",
      "Requirement already satisfied: ipykernel>=4.5.1 in /usr/local/lib/python3.7/dist-packages (from ipywidgets->nemo_toolkit[all]) (6.6.0)\n",
      "Requirement already satisfied: traitlets>=4.3.1 in /usr/local/lib/python3.7/dist-packages (from ipywidgets->nemo_toolkit[all]) (5.1.1)\n",
      "Requirement already satisfied: ipython>=4.0.0 in /usr/local/lib/python3.7/dist-packages (from ipywidgets->nemo_toolkit[all]) (7.30.1)\n",
      "Requirement already satisfied: ipython-genutils~=0.2.0 in /usr/local/lib/python3.7/dist-packages (from ipywidgets->nemo_toolkit[all]) (0.2.0)\n",
      "Requirement already satisfied: nbformat>=4.2.0 in /usr/local/lib/python3.7/dist-packages (from ipywidgets->nemo_toolkit[all]) (5.1.3)\n",
      "Requirement already satisfied: jupyterlab-widgets>=1.0.0 in /usr/local/lib/python3.7/dist-packages (from ipywidgets->nemo_toolkit[all]) (1.0.2)\n",
      "Requirement already satisfied: widgetsnbextension~=3.5.0 in /usr/local/lib/python3.7/dist-packages (from ipywidgets->nemo_toolkit[all]) (3.5.2)\n",
      "Requirement already satisfied: resampy>=0.2.2 in /usr/local/lib/python3.7/dist-packages (from librosa->nemo_toolkit[all]) (0.2.2)\n",
      "Requirement already satisfied: pooch>=1.0 in /usr/local/lib/python3.7/dist-packages (from librosa->nemo_toolkit[all]) (1.5.2)\n",
      "Requirement already satisfied: decorator>=3.0.0 in /usr/local/lib/python3.7/dist-packages (from librosa->nemo_toolkit[all]) (4.4.2)\n",
      "Requirement already satisfied: audioread>=2.0.0 in /usr/local/lib/python3.7/dist-packages (from librosa->nemo_toolkit[all]) (2.1.9)\n",
      "Requirement already satisfied: llvmlite<0.37,>=0.36.0rc1 in /usr/local/lib/python3.7/dist-packages (from numba->nemo_toolkit[all]) (0.36.0)\n",
      "Requirement already satisfied: cffi>=1.0 in /usr/local/lib/python3.7/dist-packages (from soundfile->nemo_toolkit[all]) (1.15.0)\n",
      "Requirement already satisfied: pytz>=2017.2 in /usr/local/lib/python3.7/dist-packages (from pandas->nemo_toolkit[all]) (2019.1)\n",
      "Requirement already satisfied: simplejson>=3.8.1 in /usr/local/lib/python3.7/dist-packages (from pyannote.core->nemo_toolkit[all]) (3.17.6)\n",
      "Requirement already satisfied: sortedcontainers>=2.0.4 in /usr/local/lib/python3.7/dist-packages (from pyannote.core->nemo_toolkit[all]) (2.4.0)\n",
      "Requirement already satisfied: pyannote.database>=4.0.1 in /usr/local/lib/python3.7/dist-packages (from pyannote.metrics->nemo_toolkit[all]) (4.1.1)\n",
      "Requirement already satisfied: docopt>=0.6.2 in /usr/local/lib/python3.7/dist-packages (from pyannote.metrics->nemo_toolkit[all]) (0.6.2)\n",
      "Requirement already satisfied: sympy>=1.1 in /usr/local/lib/python3.7/dist-packages (from pyannote.metrics->nemo_toolkit[all]) (1.9)\n",
      "Requirement already satisfied: tabulate>=0.7.7 in /usr/local/lib/python3.7/dist-packages (from pyannote.metrics->nemo_toolkit[all]) (0.8.9)\n",
      "Requirement already satisfied: iniconfig in /usr/local/lib/python3.7/dist-packages (from pytest->nemo_toolkit[all]) (1.1.1)\n",
      "Requirement already satisfied: pluggy<2.0,>=0.12 in /usr/local/lib/python3.7/dist-packages (from pytest->nemo_toolkit[all]) (1.0.0)\n",
      "Requirement already satisfied: py>=1.8.2 in /usr/local/lib/python3.7/dist-packages (from pytest->nemo_toolkit[all]) (1.11.0)\n",
      "Requirement already satisfied: portalocker in /usr/local/lib/python3.7/dist-packages (from sacrebleu[ja]->nemo_toolkit[all]) (2.3.2)\n",
      "Requirement already satisfied: colorama in /usr/local/lib/python3.7/dist-packages (from sacrebleu[ja]->nemo_toolkit[all]) (0.4.4)\n",
      "Requirement already satisfied: mecab-python3==1.0.3 in /usr/local/lib/python3.7/dist-packages (from sacrebleu[ja]->nemo_toolkit[all]) (1.0.3)\n",
      "Requirement already satisfied: ipadic<2.0,>=1.0 in /usr/local/lib/python3.7/dist-packages (from sacrebleu[ja]->nemo_toolkit[all]) (1.0.0)\n"
     ]
    },
    {
     "name": "stdout",
     "output_type": "stream",
     "text": [
      "Requirement already satisfied: docutils<0.18,>=0.14 in /usr/local/lib/python3.7/dist-packages (from sphinx->nemo_toolkit[all]) (0.17.1)\n",
      "Requirement already satisfied: alabaster<0.8,>=0.7 in /usr/local/lib/python3.7/dist-packages (from sphinx->nemo_toolkit[all]) (0.7.12)\n",
      "Requirement already satisfied: sphinxcontrib-serializinghtml>=1.1.5 in /usr/local/lib/python3.7/dist-packages (from sphinx->nemo_toolkit[all]) (1.1.5)\n",
      "Requirement already satisfied: sphinxcontrib-htmlhelp>=2.0.0 in /usr/local/lib/python3.7/dist-packages (from sphinx->nemo_toolkit[all]) (2.0.0)\n",
      "Requirement already satisfied: imagesize in /usr/local/lib/python3.7/dist-packages (from sphinx->nemo_toolkit[all]) (1.3.0)\n",
      "Requirement already satisfied: snowballstemmer>=1.1 in /usr/local/lib/python3.7/dist-packages (from sphinx->nemo_toolkit[all]) (2.2.0)\n",
      "Requirement already satisfied: Pygments>=2.0 in /usr/local/lib/python3.7/dist-packages (from sphinx->nemo_toolkit[all]) (2.10.0)\n",
      "Requirement already satisfied: sphinxcontrib-applehelp in /usr/local/lib/python3.7/dist-packages (from sphinx->nemo_toolkit[all]) (1.0.2)\n",
      "Requirement already satisfied: Jinja2>=2.3 in /usr/local/lib/python3.7/dist-packages (from sphinx->nemo_toolkit[all]) (3.0.3)\n",
      "Requirement already satisfied: babel>=1.3 in /usr/local/lib/python3.7/dist-packages (from sphinx->nemo_toolkit[all]) (2.9.1)\n",
      "Requirement already satisfied: sphinxcontrib-qthelp in /usr/local/lib/python3.7/dist-packages (from sphinx->nemo_toolkit[all]) (1.0.3)\n",
      "Requirement already satisfied: sphinxcontrib-devhelp in /usr/local/lib/python3.7/dist-packages (from sphinx->nemo_toolkit[all]) (1.0.2)\n",
      "Requirement already satisfied: sphinxcontrib-jsmath in /usr/local/lib/python3.7/dist-packages (from sphinx->nemo_toolkit[all]) (1.0.1)\n",
      "Requirement already satisfied: pybtex-docutils>=1.0.0 in /usr/local/lib/python3.7/dist-packages (from sphinxcontrib-bibtex->nemo_toolkit[all]) (1.0.1)\n",
      "Requirement already satisfied: pybtex>=0.20 in /usr/local/lib/python3.7/dist-packages (from sphinxcontrib-bibtex->nemo_toolkit[all]) (0.24.0)\n",
      "Requirement already satisfied: pathtools in /usr/local/lib/python3.7/dist-packages (from wandb->nemo_toolkit[all]) (0.1.2)\n",
      "Requirement already satisfied: psutil>=5.0.0 in /usr/local/lib/python3.7/dist-packages (from wandb->nemo_toolkit[all]) (5.8.0)\n",
      "Requirement already satisfied: subprocess32>=3.5.3 in /usr/local/lib/python3.7/dist-packages (from wandb->nemo_toolkit[all]) (3.5.4)\n",
      "Requirement already satisfied: yaspin>=1.0.0 in /usr/local/lib/python3.7/dist-packages (from wandb->nemo_toolkit[all]) (2.1.0)\n",
      "Requirement already satisfied: promise<3,>=2.0 in /usr/local/lib/python3.7/dist-packages (from wandb->nemo_toolkit[all]) (2.3)\n",
      "Requirement already satisfied: shortuuid>=0.5.0 in /usr/local/lib/python3.7/dist-packages (from wandb->nemo_toolkit[all]) (1.0.8)\n",
      "Requirement already satisfied: docker-pycreds>=0.4.0 in /usr/local/lib/python3.7/dist-packages (from wandb->nemo_toolkit[all]) (0.4.0)\n",
      "Requirement already satisfied: sentry-sdk>=1.0.0 in /usr/local/lib/python3.7/dist-packages (from wandb->nemo_toolkit[all]) (1.5.0)\n",
      "Requirement already satisfied: configparser>=3.8.1 in /usr/local/lib/python3.7/dist-packages (from wandb->nemo_toolkit[all]) (5.1.0)\n",
      "Requirement already satisfied: GitPython>=1.0.0 in /usr/local/lib/python3.7/dist-packages (from wandb->nemo_toolkit[all]) (3.1.24)\n",
      "Requirement already satisfied: urllib3<1.27,>=1.25.4 in /usr/local/lib/python3.7/dist-packages (from botocore<1.24.0,>=1.23.19->boto3->nemo_toolkit[all]) (1.25.11)\n",
      "Requirement already satisfied: pycparser in /usr/local/lib/python3.7/dist-packages (from cffi>=1.0->soundfile->nemo_toolkit[all]) (2.21)\n",
      "Requirement already satisfied: aiohttp in /usr/local/lib/python3.7/dist-packages (from fsspec[http]!=2021.06.0,>=2021.05.0->pytorch-lightning>=1.5.0->nemo_toolkit[all]) (3.8.1)\n",
      "Requirement already satisfied: gitdb<5,>=4.0.1 in /usr/local/lib/python3.7/dist-packages (from GitPython>=1.0.0->wandb->nemo_toolkit[all]) (4.0.9)\n",
      "Requirement already satisfied: zipp>=0.5 in /usr/local/lib/python3.7/dist-packages (from importlib-metadata->transformers>=4.0.1->nemo_toolkit[all]) (3.6.0)\n",
      "Requirement already satisfied: jupyter-client<8.0 in /usr/local/lib/python3.7/dist-packages (from ipykernel>=4.5.1->ipywidgets->nemo_toolkit[all]) (7.1.0)\n",
      "Requirement already satisfied: argcomplete>=1.12.3 in /usr/local/lib/python3.7/dist-packages (from ipykernel>=4.5.1->ipywidgets->nemo_toolkit[all]) (1.12.3)\n",
      "Requirement already satisfied: debugpy<2.0,>=1.0.0 in /usr/local/lib/python3.7/dist-packages (from ipykernel>=4.5.1->ipywidgets->nemo_toolkit[all]) (1.5.1)\n",
      "Requirement already satisfied: matplotlib-inline<0.2.0,>=0.1.0 in /usr/local/lib/python3.7/dist-packages (from ipykernel>=4.5.1->ipywidgets->nemo_toolkit[all]) (0.1.3)\n",
      "Requirement already satisfied: tornado<7.0,>=4.2 in /usr/local/lib/python3.7/dist-packages (from ipykernel>=4.5.1->ipywidgets->nemo_toolkit[all]) (6.1)\n",
      "Requirement already satisfied: jedi>=0.16 in /usr/local/lib/python3.7/dist-packages (from ipython>=4.0.0->ipywidgets->nemo_toolkit[all]) (0.18.1)\n",
      "Requirement already satisfied: pexpect>4.3 in /usr/local/lib/python3.7/dist-packages (from ipython>=4.0.0->ipywidgets->nemo_toolkit[all]) (4.8.0)\n",
      "Requirement already satisfied: pickleshare in /usr/local/lib/python3.7/dist-packages (from ipython>=4.0.0->ipywidgets->nemo_toolkit[all]) (0.7.5)\n",
      "Requirement already satisfied: prompt-toolkit!=3.0.0,!=3.0.1,<3.1.0,>=2.0.0 in /usr/local/lib/python3.7/dist-packages (from ipython>=4.0.0->ipywidgets->nemo_toolkit[all]) (3.0.23)\n",
      "Requirement already satisfied: backcall in /usr/local/lib/python3.7/dist-packages (from ipython>=4.0.0->ipywidgets->nemo_toolkit[all]) (0.2.0)\n",
      "Requirement already satisfied: MarkupSafe>=2.0 in /usr/local/lib/python3.7/dist-packages (from Jinja2>=2.3->sphinx->nemo_toolkit[all]) (2.0.1)\n",
      "Requirement already satisfied: jsonschema!=2.5.0,>=2.4 in /usr/local/lib/python3.7/dist-packages (from nbformat>=4.2.0->ipywidgets->nemo_toolkit[all]) (4.2.1)\n",
      "Requirement already satisfied: jupyter-core in /usr/local/lib/python3.7/dist-packages (from nbformat>=4.2.0->ipywidgets->nemo_toolkit[all]) (4.9.1)\n",
      "Requirement already satisfied: typer[all]>=0.2.1 in /usr/local/lib/python3.7/dist-packages (from pyannote.database>=4.0.1->pyannote.metrics->nemo_toolkit[all]) (0.4.0)\n",
      "Requirement already satisfied: latexcodec>=1.0.4 in /usr/local/lib/python3.7/dist-packages (from pybtex>=0.20->sphinxcontrib-bibtex->nemo_toolkit[all]) (2.0.1)\n",
      "Requirement already satisfied: chardet<3.1.0,>=3.0.2 in /usr/local/lib/python3.7/dist-packages (from requests->transformers>=4.0.1->nemo_toolkit[all]) (3.0.4)\n",
      "Requirement already satisfied: certifi>=2017.4.17 in /usr/local/lib/python3.7/dist-packages (from requests->transformers>=4.0.1->nemo_toolkit[all]) (2021.10.8)\n",
      "Requirement already satisfied: idna<2.9,>=2.5 in /usr/local/lib/python3.7/dist-packages (from requests->transformers>=4.0.1->nemo_toolkit[all]) (2.8)\n",
      "Requirement already satisfied: tomli>=1.0.0 in /usr/local/lib/python3.7/dist-packages (from setuptools-scm>=4->matplotlib->nemo_toolkit[all]) (1.2.2)\n",
      "Requirement already satisfied: mpmath>=0.19 in /usr/local/lib/python3.7/dist-packages (from sympy>=1.1->pyannote.metrics->nemo_toolkit[all]) (1.2.1)\n",
      "Requirement already satisfied: markdown>=2.6.8 in /usr/local/lib/python3.7/dist-packages (from tensorboard>=2.2.0->pytorch-lightning>=1.5.0->nemo_toolkit[all]) (3.3.6)\n",
      "Requirement already satisfied: absl-py>=0.4 in /usr/local/lib/python3.7/dist-packages (from tensorboard>=2.2.0->pytorch-lightning>=1.5.0->nemo_toolkit[all]) (1.0.0)\n",
      "Requirement already satisfied: grpcio>=1.24.3 in /usr/local/lib/python3.7/dist-packages (from tensorboard>=2.2.0->pytorch-lightning>=1.5.0->nemo_toolkit[all]) (1.42.0)\n",
      "Requirement already satisfied: google-auth<3,>=1.6.3 in /usr/local/lib/python3.7/dist-packages (from tensorboard>=2.2.0->pytorch-lightning>=1.5.0->nemo_toolkit[all]) (2.3.3)\n",
      "Requirement already satisfied: tensorboard-data-server<0.7.0,>=0.6.0 in /usr/local/lib/python3.7/dist-packages (from tensorboard>=2.2.0->pytorch-lightning>=1.5.0->nemo_toolkit[all]) (0.6.1)\n",
      "Requirement already satisfied: werkzeug>=0.11.15 in /usr/local/lib/python3.7/dist-packages (from tensorboard>=2.2.0->pytorch-lightning>=1.5.0->nemo_toolkit[all]) (2.0.2)\n",
      "Requirement already satisfied: tensorboard-plugin-wit>=1.6.0 in /usr/local/lib/python3.7/dist-packages (from tensorboard>=2.2.0->pytorch-lightning>=1.5.0->nemo_toolkit[all]) (1.8.0)\n",
      "Requirement already satisfied: google-auth-oauthlib<0.5,>=0.4.1 in /usr/local/lib/python3.7/dist-packages (from tensorboard>=2.2.0->pytorch-lightning>=1.5.0->nemo_toolkit[all]) (0.4.6)\n",
      "Requirement already satisfied: wheel>=0.26 in /usr/local/lib/python3.7/dist-packages (from tensorboard>=2.2.0->pytorch-lightning>=1.5.0->nemo_toolkit[all]) (0.37.0)\n"
     ]
    },
    {
     "name": "stdout",
     "output_type": "stream",
     "text": [
      "Requirement already satisfied: notebook>=4.4.1 in /usr/local/lib/python3.7/dist-packages (from widgetsnbextension~=3.5.0->ipywidgets->nemo_toolkit[all]) (6.4.6)\n",
      "Requirement already satisfied: termcolor<2.0.0,>=1.1.0 in /usr/local/lib/python3.7/dist-packages (from yaspin>=1.0.0->wandb->nemo_toolkit[all]) (1.1.0)\n",
      "Requirement already satisfied: soupsieve>1.2 in /usr/local/lib/python3.7/dist-packages (from beautifulsoup4->gdown->nemo_toolkit[all]) (2.3.1)\n",
      "Requirement already satisfied: pip in /usr/local/lib/python3.7/dist-packages (from pip-api->isort[requirements]<5->nemo_toolkit[all]) (21.3.1)\n",
      "Requirement already satisfied: yarg in /usr/local/lib/python3.7/dist-packages (from pipreqs->isort[requirements]<5->nemo_toolkit[all]) (0.1.9)\n",
      "Requirement already satisfied: PySocks!=1.5.7,>=1.5.6 in /usr/local/lib/python3.7/dist-packages (from requests->transformers>=4.0.1->nemo_toolkit[all]) (1.7.1)\n",
      "Requirement already satisfied: smmap<6,>=3.0.1 in /usr/local/lib/python3.7/dist-packages (from gitdb<5,>=4.0.1->GitPython>=1.0.0->wandb->nemo_toolkit[all]) (5.0.0)\n",
      "Requirement already satisfied: pyasn1-modules>=0.2.1 in /usr/local/lib/python3.7/dist-packages (from google-auth<3,>=1.6.3->tensorboard>=2.2.0->pytorch-lightning>=1.5.0->nemo_toolkit[all]) (0.2.8)\n",
      "Requirement already satisfied: rsa<5,>=3.1.4 in /usr/local/lib/python3.7/dist-packages (from google-auth<3,>=1.6.3->tensorboard>=2.2.0->pytorch-lightning>=1.5.0->nemo_toolkit[all]) (4.8)\n",
      "Requirement already satisfied: cachetools<5.0,>=2.0.0 in /usr/local/lib/python3.7/dist-packages (from google-auth<3,>=1.6.3->tensorboard>=2.2.0->pytorch-lightning>=1.5.0->nemo_toolkit[all]) (4.2.4)\n",
      "Requirement already satisfied: requests-oauthlib>=0.7.0 in /usr/local/lib/python3.7/dist-packages (from google-auth-oauthlib<0.5,>=0.4.1->tensorboard>=2.2.0->pytorch-lightning>=1.5.0->nemo_toolkit[all]) (1.3.0)\n",
      "Requirement already satisfied: parso<0.9.0,>=0.8.0 in /usr/local/lib/python3.7/dist-packages (from jedi>=0.16->ipython>=4.0.0->ipywidgets->nemo_toolkit[all]) (0.8.3)\n",
      "Requirement already satisfied: pyrsistent!=0.17.0,!=0.17.1,!=0.17.2,>=0.14.0 in /usr/local/lib/python3.7/dist-packages (from jsonschema!=2.5.0,>=2.4->nbformat>=4.2.0->ipywidgets->nemo_toolkit[all]) (0.18.0)\n",
      "Requirement already satisfied: entrypoints in /usr/local/lib/python3.7/dist-packages (from jupyter-client<8.0->ipykernel>=4.5.1->ipywidgets->nemo_toolkit[all]) (0.3)\n",
      "Requirement already satisfied: pyzmq>=13 in /usr/local/lib/python3.7/dist-packages (from jupyter-client<8.0->ipykernel>=4.5.1->ipywidgets->nemo_toolkit[all]) (22.3.0)\n",
      "Requirement already satisfied: nest-asyncio>=1.5 in /usr/local/lib/python3.7/dist-packages (from jupyter-client<8.0->ipykernel>=4.5.1->ipywidgets->nemo_toolkit[all]) (1.5.4)\n",
      "Requirement already satisfied: terminado>=0.8.3 in /usr/local/lib/python3.7/dist-packages (from notebook>=4.4.1->widgetsnbextension~=3.5.0->ipywidgets->nemo_toolkit[all]) (0.12.1)\n",
      "Requirement already satisfied: Send2Trash>=1.8.0 in /usr/local/lib/python3.7/dist-packages (from notebook>=4.4.1->widgetsnbextension~=3.5.0->ipywidgets->nemo_toolkit[all]) (1.8.0)\n",
      "Requirement already satisfied: prometheus-client in /usr/local/lib/python3.7/dist-packages (from notebook>=4.4.1->widgetsnbextension~=3.5.0->ipywidgets->nemo_toolkit[all]) (0.7.1)\n",
      "Requirement already satisfied: nbconvert in /usr/local/lib/python3.7/dist-packages (from notebook>=4.4.1->widgetsnbextension~=3.5.0->ipywidgets->nemo_toolkit[all]) (6.3.0)\n",
      "Requirement already satisfied: argon2-cffi in /usr/local/lib/python3.7/dist-packages (from notebook>=4.4.1->widgetsnbextension~=3.5.0->ipywidgets->nemo_toolkit[all]) (21.1.0)\n",
      "Requirement already satisfied: ptyprocess>=0.5 in /usr/local/lib/python3.7/dist-packages (from pexpect>4.3->ipython>=4.0.0->ipywidgets->nemo_toolkit[all]) (0.7.0)\n",
      "Requirement already satisfied: wcwidth in /usr/local/lib/python3.7/dist-packages (from prompt-toolkit!=3.0.0,!=3.0.1,<3.1.0,>=2.0.0->ipython>=4.0.0->ipywidgets->nemo_toolkit[all]) (0.2.5)\n",
      "Requirement already satisfied: shellingham<2.0.0,>=1.3.0 in /usr/local/lib/python3.7/dist-packages (from typer[all]>=0.2.1->pyannote.database>=4.0.1->pyannote.metrics->nemo_toolkit[all]) (1.4.0)\n",
      "Requirement already satisfied: charset-normalizer<3.0,>=2.0 in /usr/local/lib/python3.7/dist-packages (from aiohttp->fsspec[http]!=2021.06.0,>=2021.05.0->pytorch-lightning>=1.5.0->nemo_toolkit[all]) (2.0.8)\n",
      "Requirement already satisfied: yarl<2.0,>=1.0 in /usr/local/lib/python3.7/dist-packages (from aiohttp->fsspec[http]!=2021.06.0,>=2021.05.0->pytorch-lightning>=1.5.0->nemo_toolkit[all]) (1.7.2)\n",
      "Requirement already satisfied: multidict<7.0,>=4.5 in /usr/local/lib/python3.7/dist-packages (from aiohttp->fsspec[http]!=2021.06.0,>=2021.05.0->pytorch-lightning>=1.5.0->nemo_toolkit[all]) (5.2.0)\n",
      "Requirement already satisfied: aiosignal>=1.1.2 in /usr/local/lib/python3.7/dist-packages (from aiohttp->fsspec[http]!=2021.06.0,>=2021.05.0->pytorch-lightning>=1.5.0->nemo_toolkit[all]) (1.2.0)\n",
      "Requirement already satisfied: async-timeout<5.0,>=4.0.0a3 in /usr/local/lib/python3.7/dist-packages (from aiohttp->fsspec[http]!=2021.06.0,>=2021.05.0->pytorch-lightning>=1.5.0->nemo_toolkit[all]) (4.0.1)\n",
      "Requirement already satisfied: asynctest==0.13.0 in /usr/local/lib/python3.7/dist-packages (from aiohttp->fsspec[http]!=2021.06.0,>=2021.05.0->pytorch-lightning>=1.5.0->nemo_toolkit[all]) (0.13.0)\n",
      "Requirement already satisfied: frozenlist>=1.1.1 in /usr/local/lib/python3.7/dist-packages (from aiohttp->fsspec[http]!=2021.06.0,>=2021.05.0->pytorch-lightning>=1.5.0->nemo_toolkit[all]) (1.2.0)\n",
      "Requirement already satisfied: pyasn1<0.5.0,>=0.4.6 in /usr/local/lib/python3.7/dist-packages (from pyasn1-modules>=0.2.1->google-auth<3,>=1.6.3->tensorboard>=2.2.0->pytorch-lightning>=1.5.0->nemo_toolkit[all]) (0.4.8)\n",
      "Requirement already satisfied: oauthlib>=3.0.0 in /usr/local/lib/python3.7/dist-packages (from requests-oauthlib>=0.7.0->google-auth-oauthlib<0.5,>=0.4.1->tensorboard>=2.2.0->pytorch-lightning>=1.5.0->nemo_toolkit[all]) (3.1.1)\n",
      "Requirement already satisfied: mistune<2,>=0.8.1 in /usr/local/lib/python3.7/dist-packages (from nbconvert->notebook>=4.4.1->widgetsnbextension~=3.5.0->ipywidgets->nemo_toolkit[all]) (0.8.4)\n",
      "Requirement already satisfied: defusedxml in /usr/local/lib/python3.7/dist-packages (from nbconvert->notebook>=4.4.1->widgetsnbextension~=3.5.0->ipywidgets->nemo_toolkit[all]) (0.7.1)\n",
      "Requirement already satisfied: jupyterlab-pygments in /usr/local/lib/python3.7/dist-packages (from nbconvert->notebook>=4.4.1->widgetsnbextension~=3.5.0->ipywidgets->nemo_toolkit[all]) (0.1.2)\n",
      "Requirement already satisfied: nbclient<0.6.0,>=0.5.0 in /usr/local/lib/python3.7/dist-packages (from nbconvert->notebook>=4.4.1->widgetsnbextension~=3.5.0->ipywidgets->nemo_toolkit[all]) (0.5.9)\n",
      "Requirement already satisfied: bleach in /usr/local/lib/python3.7/dist-packages (from nbconvert->notebook>=4.4.1->widgetsnbextension~=3.5.0->ipywidgets->nemo_toolkit[all]) (4.1.0)\n",
      "Requirement already satisfied: testpath in /usr/local/lib/python3.7/dist-packages (from nbconvert->notebook>=4.4.1->widgetsnbextension~=3.5.0->ipywidgets->nemo_toolkit[all]) (0.5.0)\n",
      "Requirement already satisfied: pandocfilters>=1.4.1 in /usr/local/lib/python3.7/dist-packages (from nbconvert->notebook>=4.4.1->widgetsnbextension~=3.5.0->ipywidgets->nemo_toolkit[all]) (1.5.0)\n",
      "Requirement already satisfied: webencodings in /usr/local/lib/python3.7/dist-packages (from bleach->nbconvert->notebook>=4.4.1->widgetsnbextension~=3.5.0->ipywidgets->nemo_toolkit[all]) (0.5.1)\n",
      "\u001b[33mWARNING: Running pip as the 'root' user can result in broken permissions and conflicting behaviour with the system package manager. It is recommended to use a virtual environment instead: https://pip.pypa.io/warnings/venv\u001b[0m\n"
     ]
    }
   ],
   "source": [
    "!apt-get update && apt-get install -y libsndfile1 ffmpeg\n",
    "!pip install Cython\n",
    "!pip install \"nemo_toolkit[all]\""
   ]
  },
  {
   "cell_type": "code",
   "execution_count": 12,
   "id": "c637ef48",
   "metadata": {},
   "outputs": [
    {
     "name": "stdout",
     "output_type": "stream",
     "text": [
      "Requirement already satisfied: pynini in /usr/local/lib/python3.7/dist-packages (2.1.4)\n",
      "Requirement already satisfied: Cython>=0.29 in /usr/local/lib/python3.7/dist-packages (from pynini) (0.29.14)\n",
      "\u001b[33mWARNING: Running pip as the 'root' user can result in broken permissions and conflicting behaviour with the system package manager. It is recommended to use a virtual environment instead: https://pip.pypa.io/warnings/venv\u001b[0m\n"
     ]
    }
   ],
   "source": [
    "!pip install pynini"
   ]
  },
  {
   "cell_type": "code",
   "execution_count": null,
   "id": "2a645088",
   "metadata": {},
   "outputs": [],
   "source": []
  }
 ],
 "metadata": {
  "kernelspec": {
   "display_name": "Python 3 (ipykernel)",
   "language": "python",
   "name": "python3"
  },
  "language_info": {
   "codemirror_mode": {
    "name": "ipython",
    "version": 3
   },
   "file_extension": ".py",
   "mimetype": "text/x-python",
   "name": "python",
   "nbconvert_exporter": "python",
   "pygments_lexer": "ipython3",
   "version": "3.7.5"
  }
 },
 "nbformat": 4,
 "nbformat_minor": 5
}
